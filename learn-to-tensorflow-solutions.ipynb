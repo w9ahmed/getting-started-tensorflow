{
 "cells": [
  {
   "cell_type": "markdown",
   "metadata": {},
   "source": [
    "# Count"
   ]
  },
  {
   "cell_type": "markdown",
   "metadata": {},
   "source": [
    "Create a very basic tensorflow program that adds one to a variable and uses a loop to run the addition ten times."
   ]
  },
  {
   "cell_type": "code",
   "execution_count": 1,
   "metadata": {
    "collapsed": true
   },
   "outputs": [],
   "source": [
    "# Constants: one\n",
    "# Variables: num\n",
    "# Operations: Add, Assign"
   ]
  },
  {
   "cell_type": "code",
   "execution_count": 3,
   "metadata": {
    "collapsed": true
   },
   "outputs": [],
   "source": [
    "import tensorflow as tf\n",
    "\n",
    "# Constants\n",
    "one = tf.constant(1)\n",
    "\n",
    "# Variables\n",
    "num = tf.Variable(0)\n",
    "\n",
    "# Operations\n",
    "add = tf.add(num, one)\n",
    "assign = tf.assign(num, add)\n",
    "\n",
    "# Initializing Variables\n",
    "init = tf.global_variables_initializer()"
   ]
  },
  {
   "cell_type": "code",
   "execution_count": 6,
   "metadata": {},
   "outputs": [
    {
     "name": "stdout",
     "output_type": "stream",
     "text": [
      "\n",
      "Running Tensorflow Session...\n",
      "\n",
      "\n",
      "Initial Value of NUM:  0\n",
      "\n",
      "Iterating 10 times...\n",
      "\n",
      "NUM value updated to:  1\n",
      "NUM value updated to:  2\n",
      "NUM value updated to:  3\n",
      "NUM value updated to:  4\n",
      "NUM value updated to:  5\n",
      "NUM value updated to:  6\n",
      "NUM value updated to:  7\n",
      "NUM value updated to:  8\n",
      "NUM value updated to:  9\n",
      "NUM value updated to:  10\n",
      "\n",
      "Final Value for NUM:  10\n",
      "Session Closed.\n"
     ]
    }
   ],
   "source": [
    "print '\\nRunning Tensorflow Session...\\n'\n",
    "with tf.Session() as sess:\n",
    "    sess.run(init)\n",
    "\n",
    "    print '\\nInitial Value of NUM: ', sess.run(num)\n",
    "\n",
    "    print '\\nIterating 10 times...\\n'\n",
    "    for i in range(10):\n",
    "        result = sess.run(assign)\n",
    "        print 'NUM value updated to: ', result\n",
    "\n",
    "    print '\\nFinal Value for NUM: ', sess.run(num)\n",
    "\n",
    "\n",
    "print 'Session Closed.'"
   ]
  },
  {
   "cell_type": "markdown",
   "metadata": {},
   "source": [
    "\n",
    "# Multiply"
   ]
  },
  {
   "cell_type": "markdown",
   "metadata": {},
   "source": [
    "Multiply two matricies together.\n",
    "\n",
    "```\n",
    "input1 = [[3. , 5.]]\n",
    "input2 = [[7.],[1.]]\n",
    "```"
   ]
  },
  {
   "cell_type": "code",
   "execution_count": 9,
   "metadata": {
    "collapsed": true
   },
   "outputs": [],
   "source": [
    "# Placeholders: mat1, mat2\n",
    "# Operations: mat_mul"
   ]
  },
  {
   "cell_type": "code",
   "execution_count": 10,
   "metadata": {
    "collapsed": true
   },
   "outputs": [],
   "source": [
    "input1 = [[3. , 5.]]\n",
    "input2 = [[7.],[1.]]\n",
    "\n",
    "mat1 = tf.placeholder(\"float\")\n",
    "mat2 = tf.placeholder(\"float\")\n",
    "\n",
    "mat_mul = tf.matmul(mat1, mat2)"
   ]
  },
  {
   "cell_type": "code",
   "execution_count": 12,
   "metadata": {},
   "outputs": [
    {
     "name": "stdout",
     "output_type": "stream",
     "text": [
      "\n",
      "Running Tensorflow Session...\n",
      "\n",
      "\n",
      "Result of multiplying  [[3.0, 5.0]]  and  [[7.0], [1.0]]  equals  [[ 26.]]\n",
      "Session Closed.\n"
     ]
    }
   ],
   "source": [
    "print '\\nRunning Tensorflow Session...\\n'\n",
    "with tf.Session() as sess:\n",
    "    result = sess.run(mat_mul, {mat1: input1, mat2: input2})\n",
    "    print '\\nResult of multiplying ', input1, ' and ', input2, ' equals ', result\n",
    "\n",
    "print 'Session Closed.'"
   ]
  }
 ],
 "metadata": {
  "kernelspec": {
   "display_name": "Python 2",
   "language": "python",
   "name": "python2"
  },
  "language_info": {
   "codemirror_mode": {
    "name": "ipython",
    "version": 2
   },
   "file_extension": ".py",
   "mimetype": "text/x-python",
   "name": "python",
   "nbconvert_exporter": "python",
   "pygments_lexer": "ipython2",
   "version": "2.7.13"
  }
 },
 "nbformat": 4,
 "nbformat_minor": 2
}
